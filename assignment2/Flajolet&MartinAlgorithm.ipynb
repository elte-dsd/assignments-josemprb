{
  "nbformat": 4,
  "nbformat_minor": 0,
  "metadata": {
    "colab": {
      "name": "Flajolet&MartinAlgorithm.ipynb",
      "provenance": []
    },
    "kernelspec": {
      "name": "python3",
      "display_name": "Python 3"
    }
  },
  "cells": [
    {
      "cell_type": "markdown",
      "metadata": {
        "id": "3m6OeSsIk8W-",
        "colab_type": "text"
      },
      "source": [
        "# Assignment 2\n",
        "## Create a Flajolet and Martin Algorithm implementation\n",
        "\n",
        "The objective of this assignment is to create an implementation for a Flajolet and Martin Algorithm for a variable data stream. For this purpose, the first step is to install and import the needed libraries: numpy, random, math and bitarray."
      ]
    },
    {
      "cell_type": "code",
      "metadata": {
        "id": "9CQ4AoSuTpUV",
        "colab_type": "code",
        "outputId": "ebbedeaa-48ab-468a-c8df-15a8dc91f235",
        "colab": {
          "base_uri": "https://localhost:8080/",
          "height": 168
        }
      },
      "source": [
        "!pip install bitarray"
      ],
      "execution_count": 0,
      "outputs": [
        {
          "output_type": "stream",
          "text": [
            "Collecting bitarray\n",
            "  Downloading https://files.pythonhosted.org/packages/c7/2a/35d3bd5bffa9e179267318057a12adc41f837310edf043d8e6d939719f95/bitarray-1.0.1.tar.gz\n",
            "Building wheels for collected packages: bitarray\n",
            "  Building wheel for bitarray (setup.py) ... \u001b[?25l\u001b[?25hdone\n",
            "  Created wheel for bitarray: filename=bitarray-1.0.1-cp36-cp36m-linux_x86_64.whl size=76968 sha256=183c95f74e6180d6aeef2b77dad6b28efdefbf81c70f25dbb263d530dd10991c\n",
            "  Stored in directory: /root/.cache/pip/wheels/d2/e3/1b/82b4f8f9e4f36c6b3f171b1781d5a7d85e74a113f1ee58f0f4\n",
            "Successfully built bitarray\n",
            "Installing collected packages: bitarray\n",
            "Successfully installed bitarray-1.0.1\n"
          ],
          "name": "stdout"
        }
      ]
    },
    {
      "cell_type": "code",
      "metadata": {
        "id": "WxHoIEYiTu0a",
        "colab_type": "code",
        "colab": {}
      },
      "source": [
        "import numpy as np\n",
        "import random\n",
        "import math\n",
        "from bitarray import bitarray"
      ],
      "execution_count": 0,
      "outputs": []
    },
    {
      "cell_type": "markdown",
      "metadata": {
        "id": "f7VSHNk_lUe9",
        "colab_type": "text"
      },
      "source": [
        "Once this part is done, the next step is to ask the user to enter a number for the size of the bitmap (array of bits). Then, another number for the amount of samples generated. Finally, a third number for the highest value supported in the data stream that it is going to be created randomly."
      ]
    },
    {
      "cell_type": "code",
      "metadata": {
        "id": "0S34aGqfU2ug",
        "colab_type": "code",
        "outputId": "bf1e0477-415f-4847-f174-3a1eca1f1bb3",
        "colab": {
          "base_uri": "https://localhost:8080/",
          "height": 67
        }
      },
      "source": [
        "n = int(input(\"Enter a number for the size of the bitmap, in bits: \"))\n",
        "m = int(input(\"Enter a number for the amount of samples generated: \"))\n",
        "l = int(input(\"Enter a number for the highest value supported in the generated data stream: \"))"
      ],
      "execution_count": 0,
      "outputs": [
        {
          "output_type": "stream",
          "text": [
            "Enter a number for the size of the bitmap, in bits: 16\n",
            "Enter a number for the amount of samples generated: 500\n",
            "Enter a number for the highest value supported in the generated data stream: 104\n"
          ],
          "name": "stdout"
        }
      ]
    },
    {
      "cell_type": "markdown",
      "metadata": {
        "id": "51Eke_zSlpE8",
        "colab_type": "text"
      },
      "source": [
        "Now, we set a constant value phi equal to 0.77351, and we initialize the bitmap to zero in every position."
      ]
    },
    {
      "cell_type": "code",
      "metadata": {
        "id": "AWKkBtF-Tzup",
        "colab_type": "code",
        "outputId": "9b5d1fe5-7ad1-4903-cb7f-7cd6c1c4c084",
        "colab": {
          "base_uri": "https://localhost:8080/",
          "height": 34
        }
      },
      "source": [
        "phi = 0.77351\n",
        "\n",
        "bitmap = n * bitarray('0')\n",
        "print(bitmap)"
      ],
      "execution_count": 0,
      "outputs": [
        {
          "output_type": "stream",
          "text": [
            "bitarray('0000000000000000')\n"
          ],
          "name": "stdout"
        }
      ]
    },
    {
      "cell_type": "markdown",
      "metadata": {
        "id": "DpLpguNal8sN",
        "colab_type": "text"
      },
      "source": [
        "After the bitmap is initialized to zero, it is possible to create the random data stream within a list and then print it."
      ]
    },
    {
      "cell_type": "code",
      "metadata": {
        "id": "uXmpUaH6Wov5",
        "colab_type": "code",
        "outputId": "2f9f0fc4-81df-4455-8649-3f8893b66877",
        "colab": {
          "base_uri": "https://localhost:8080/",
          "height": 54
        }
      },
      "source": [
        "stream = []\n",
        "\n",
        "for i in range(0,m):\n",
        "    x = random.randint(1,l)\n",
        "    stream.append(x)\n",
        "\n",
        "print(stream)"
      ],
      "execution_count": 0,
      "outputs": [
        {
          "output_type": "stream",
          "text": [
            "[47, 29, 85, 15, 38, 6, 91, 85, 76, 86, 59, 89, 5, 78, 18, 48, 9, 42, 46, 3, 50, 34, 65, 97, 58, 22, 11, 96, 12, 28, 44, 30, 7, 27, 53, 71, 12, 89, 58, 50, 51, 45, 84, 32, 62, 65, 49, 61, 98, 2, 96, 17, 15, 5, 104, 32, 29, 34, 21, 8, 29, 30, 15, 53, 70, 74, 24, 3, 72, 91, 77, 86, 74, 79, 6, 87, 103, 7, 99, 44, 91, 14, 11, 103, 58, 7, 36, 20, 20, 62, 42, 37, 61, 93, 48, 16, 82, 104, 75, 89, 81, 21, 90, 39, 58, 91, 54, 101, 94, 74, 78, 45, 64, 68, 57, 72, 12, 74, 11, 57, 26, 78, 54, 85, 13, 53, 7, 5, 18, 51, 23, 30, 78, 55, 54, 52, 63, 38, 23, 7, 80, 40, 94, 85, 83, 33, 102, 27, 40, 53, 33, 7, 60, 70, 25, 32, 70, 70, 51, 99, 54, 54, 45, 39, 66, 85, 38, 21, 72, 44, 51, 57, 13, 9, 20, 33, 18, 34, 37, 29, 67, 98, 40, 5, 34, 14, 66, 90, 7, 37, 100, 41, 21, 70, 44, 38, 66, 58, 50, 53, 104, 54, 100, 29, 100, 32, 32, 78, 97, 75, 52, 83, 28, 55, 67, 36, 59, 71, 47, 1, 31, 28, 94, 60, 18, 65, 22, 43, 101, 30, 18, 1, 41, 101, 101, 31, 13, 3, 9, 23, 73, 37, 70, 40, 8, 40, 45, 98, 84, 84, 19, 69, 8, 41, 18, 56, 80, 92, 85, 4, 62, 97, 44, 58, 60, 85, 21, 75, 100, 48, 69, 49, 92, 54, 22, 63, 40, 75, 89, 8, 18, 14, 94, 33, 58, 17, 44, 55, 74, 5, 93, 50, 64, 30, 10, 8, 58, 62, 81, 52, 56, 9, 63, 75, 91, 53, 71, 58, 92, 96, 9, 85, 35, 19, 79, 36, 25, 26, 14, 4, 9, 16, 21, 13, 78, 76, 40, 89, 19, 20, 15, 51, 34, 52, 14, 39, 91, 56, 58, 103, 5, 13, 98, 43, 69, 58, 74, 14, 87, 19, 16, 24, 65, 11, 74, 73, 60, 37, 37, 61, 85, 81, 69, 1, 19, 31, 65, 78, 10, 70, 83, 64, 100, 31, 46, 69, 59, 93, 42, 25, 72, 9, 26, 92, 89, 76, 12, 52, 72, 2, 103, 31, 49, 41, 72, 10, 17, 6, 94, 12, 36, 65, 1, 30, 91, 5, 28, 81, 48, 94, 17, 20, 93, 57, 6, 96, 98, 62, 89, 31, 102, 69, 103, 6, 51, 13, 19, 84, 81, 81, 36, 102, 58, 35, 88, 7, 20, 44, 94, 27, 75, 88, 10, 51, 78, 22, 104, 54, 103, 44, 58, 97, 3, 26, 11, 10, 41, 49, 35, 95, 1, 73, 71, 38, 56, 55, 55, 18, 89, 4, 17, 68, 37, 14, 90, 13, 65, 40, 84, 23, 59, 40, 96, 35, 73, 36, 81, 39, 61, 71, 12, 74, 12, 29, 43, 92, 83, 94, 44, 57]\n"
          ],
          "name": "stdout"
        }
      ]
    },
    {
      "cell_type": "markdown",
      "metadata": {
        "id": "dysnZ_LamHCE",
        "colab_type": "text"
      },
      "source": [
        "It is also required to define a way to compute the least significant one for a binary representation, so it is created a function called least_significant_one, which returns the position of the array in which the least significant one is."
      ]
    },
    {
      "cell_type": "code",
      "metadata": {
        "id": "Q3l3G5X9dXpo",
        "colab_type": "code",
        "colab": {}
      },
      "source": [
        "def least_significant_one(x):\n",
        "  for i in range(len(x)-1,-1,-1):\n",
        "    if x[i] == 1:\n",
        "      return i\n",
        "  return len(x)-1"
      ],
      "execution_count": 0,
      "outputs": []
    },
    {
      "cell_type": "markdown",
      "metadata": {
        "id": "kl3yfH_DmUcV",
        "colab_type": "text"
      },
      "source": [
        "Finally, it is time to run a for loop that firstly computes a hash function randomly defined. Afterwards, computes the binary representation of such result. Once it is obtained such binary representation, it is used the previously defined function least_significant_one to get the position that fulfills this requirement. The last step is to set the bitmap's bit which corresponds to that position. Then, the loop is closed and the bitmap is printed after the whole process."
      ]
    },
    {
      "cell_type": "code",
      "metadata": {
        "id": "XwybRlw7XXxh",
        "colab_type": "code",
        "outputId": "cedde87e-86b5-4a37-a10f-5a48fd3c2d02",
        "colab": {
          "base_uri": "https://localhost:8080/",
          "height": 34
        }
      },
      "source": [
        "for i in stream:\n",
        "  h = (7*i+83) % 74\n",
        "  b = format(h, \"b\")\n",
        "  index = least_significant_one(b)\n",
        "  if bitmap[len(bitmap)-index-1] == 0:\n",
        "    bitmap[len(bitmap)-index-1] = 1\n",
        "\n",
        "print(bitmap)"
      ],
      "execution_count": 0,
      "outputs": [
        {
          "output_type": "stream",
          "text": [
            "bitarray('0000000001111111')\n"
          ],
          "name": "stdout"
        }
      ]
    },
    {
      "cell_type": "markdown",
      "metadata": {
        "id": "6H4kJlu-nA1t",
        "colab_type": "text"
      },
      "source": [
        "The final step before calculating the results is to define R, which is the highest index in which the bitmap index is 1. It is created a loop that calculates this number and then it is printed out. "
      ]
    },
    {
      "cell_type": "code",
      "metadata": {
        "id": "xLnrvQMkfhok",
        "colab_type": "code",
        "outputId": "c4dbc327-20da-4fe9-c07f-65f6e51a7ae4",
        "colab": {
          "base_uri": "https://localhost:8080/",
          "height": 34
        }
      },
      "source": [
        "r = 0\n",
        "\n",
        "for i in range(len(bitmap)):\n",
        "  if bitmap[i] == 1:\n",
        "    r = len(bitmap)-1-i\n",
        "    break\n",
        "\n",
        "print(r)"
      ],
      "execution_count": 0,
      "outputs": [
        {
          "output_type": "stream",
          "text": [
            "6\n"
          ],
          "name": "stdout"
        }
      ]
    },
    {
      "cell_type": "markdown",
      "metadata": {
        "id": "Gqh7rd5MnZ8N",
        "colab_type": "text"
      },
      "source": [
        "The results achieved for this trial of the Flajolet and Martin Algorithm are the following ones:"
      ]
    },
    {
      "cell_type": "code",
      "metadata": {
        "id": "jSjlPpc2gDVM",
        "colab_type": "code",
        "outputId": "802ec4d5-cf66-4a4a-9de1-1ffde487faba",
        "colab": {
          "base_uri": "https://localhost:8080/",
          "height": 50
        }
      },
      "source": [
        "cardinality = (2**r)/phi\n",
        "print(\"The cardinality of M, output of the algorithm, is: {0}\".format(cardinality))\n",
        "print(\"The actual number of different values in the data stream M is: {0}\".format(len(np.unique(stream))))"
      ],
      "execution_count": 0,
      "outputs": [
        {
          "output_type": "stream",
          "text": [
            "The cardinality of M, output of the algorithm, is: 82.7397189435172\n",
            "The actual number of different values in the data stream M is: 104\n"
          ],
          "name": "stdout"
        }
      ]
    },
    {
      "cell_type": "markdown",
      "metadata": {
        "id": "UEu6u0cCnh1U",
        "colab_type": "text"
      },
      "source": [
        "In my opinion, it is not easy to produce efficient results trying this algorithm, unless the hash function fits perfectly with the solution. There is always a considerable difference between the cardinality computed with the algorithm, and the one expressed by the length of the numpy function unique."
      ]
    }
  ]
}